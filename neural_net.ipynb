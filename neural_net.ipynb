{
 "cells": [
  {
   "cell_type": "code",
   "execution_count": 16,
   "metadata": {},
   "outputs": [],
   "source": [
    "import tensorflow as tf\n",
    "import pandas as pd\n",
    "from sklearn import model_selection"
   ]
  },
  {
   "cell_type": "code",
   "execution_count": 127,
   "metadata": {},
   "outputs": [
    {
     "name": "stdout",
     "output_type": "stream",
     "text": [
      "(10622, 5)\n"
     ]
    }
   ],
   "source": [
    "cols = [\"nlikes\", \"nreplies\", \"nretweets\", \"close\", \"date\"]\n",
    "data = pd.read_csv('data/needed/cleaned/Tweets_and_Stock.csv', usecols=cols)\n",
    "data = data.dropna(subset=[\"nlikes\", \"close\"])\n",
    "print(data.shape)"
   ]
  },
  {
   "cell_type": "markdown",
   "metadata": {},
   "source": [
    "## Model rounded to next 100"
   ]
  },
  {
   "cell_type": "code",
   "execution_count": 84,
   "metadata": {},
   "outputs": [
    {
     "data": {
      "text/html": [
       "<div>\n",
       "<style scoped>\n",
       "    .dataframe tbody tr th:only-of-type {\n",
       "        vertical-align: middle;\n",
       "    }\n",
       "\n",
       "    .dataframe tbody tr th {\n",
       "        vertical-align: top;\n",
       "    }\n",
       "\n",
       "    .dataframe thead th {\n",
       "        text-align: right;\n",
       "    }\n",
       "</style>\n",
       "<table border=\"1\" class=\"dataframe\">\n",
       "  <thead>\n",
       "    <tr style=\"text-align: right;\">\n",
       "      <th></th>\n",
       "      <th>nlikes</th>\n",
       "      <th>nreplies</th>\n",
       "      <th>nretweets</th>\n",
       "      <th>close</th>\n",
       "    </tr>\n",
       "  </thead>\n",
       "  <tbody>\n",
       "    <tr>\n",
       "      <th>count</th>\n",
       "      <td>1.062200e+04</td>\n",
       "      <td>10622.000000</td>\n",
       "      <td>10622.000000</td>\n",
       "      <td>10622.000000</td>\n",
       "    </tr>\n",
       "    <tr>\n",
       "      <th>mean</th>\n",
       "      <td>2.449201e+04</td>\n",
       "      <td>1093.618810</td>\n",
       "      <td>2467.577198</td>\n",
       "      <td>8.955846</td>\n",
       "    </tr>\n",
       "    <tr>\n",
       "      <th>std</th>\n",
       "      <td>7.101487e+04</td>\n",
       "      <td>4041.571601</td>\n",
       "      <td>10172.791564</td>\n",
       "      <td>3.588659</td>\n",
       "    </tr>\n",
       "    <tr>\n",
       "      <th>min</th>\n",
       "      <td>2.000000e+00</td>\n",
       "      <td>0.000000</td>\n",
       "      <td>0.000000</td>\n",
       "      <td>0.000000</td>\n",
       "    </tr>\n",
       "    <tr>\n",
       "      <th>25%</th>\n",
       "      <td>1.129250e+03</td>\n",
       "      <td>57.000000</td>\n",
       "      <td>59.000000</td>\n",
       "      <td>6.000000</td>\n",
       "    </tr>\n",
       "    <tr>\n",
       "      <th>50%</th>\n",
       "      <td>3.747500e+03</td>\n",
       "      <td>171.000000</td>\n",
       "      <td>219.000000</td>\n",
       "      <td>11.000000</td>\n",
       "    </tr>\n",
       "    <tr>\n",
       "      <th>75%</th>\n",
       "      <td>1.403675e+04</td>\n",
       "      <td>599.000000</td>\n",
       "      <td>989.750000</td>\n",
       "      <td>11.000000</td>\n",
       "    </tr>\n",
       "    <tr>\n",
       "      <th>max</th>\n",
       "      <td>1.596525e+06</td>\n",
       "      <td>120523.000000</td>\n",
       "      <td>362906.000000</td>\n",
       "      <td>12.000000</td>\n",
       "    </tr>\n",
       "  </tbody>\n",
       "</table>\n",
       "</div>"
      ],
      "text/plain": [
       "             nlikes       nreplies      nretweets         close\n",
       "count  1.062200e+04   10622.000000   10622.000000  10622.000000\n",
       "mean   2.449201e+04    1093.618810    2467.577198      8.955846\n",
       "std    7.101487e+04    4041.571601   10172.791564      3.588659\n",
       "min    2.000000e+00       0.000000       0.000000      0.000000\n",
       "25%    1.129250e+03      57.000000      59.000000      6.000000\n",
       "50%    3.747500e+03     171.000000     219.000000     11.000000\n",
       "75%    1.403675e+04     599.000000     989.750000     11.000000\n",
       "max    1.596525e+06  120523.000000  362906.000000     12.000000"
      ]
     },
     "execution_count": 84,
     "metadata": {},
     "output_type": "execute_result"
    }
   ],
   "source": [
    "#target use close price rounded to next 100\n",
    "data[\"close\"] = data[\"close\"].apply(lambda x: int(round(x/100)*100))\n",
    "data[\"close\"] = data[\"close\"].factorize()[0]\n",
    "data.describe()"
   ]
  },
  {
   "cell_type": "code",
   "execution_count": 85,
   "metadata": {},
   "outputs": [
    {
     "name": "stdout",
     "output_type": "stream",
     "text": [
      "(8497, 4)\n",
      "(2125, 4)\n"
     ]
    }
   ],
   "source": [
    "train, test = model_selection.train_test_split(data, test_size= 0.2)\n",
    "print(train.shape)\n",
    "print(test.shape)\n",
    "\n",
    "train_in = train[[\"nlikes\", \"nreplies\", \"nretweets\"]]\n",
    "train_target = train[\"close\"]\n",
    "\n",
    "test_in = test[[\"nlikes\", \"nreplies\", \"nretweets\"]]\n",
    "test_target = test[\"close\"]"
   ]
  },
  {
   "cell_type": "code",
   "execution_count": 98,
   "metadata": {},
   "outputs": [],
   "source": [
    "normalizer = tf.keras.layers.Normalization(axis=-1) #to make values between 0 and 1\n",
    "normalizer.adapt(train_in)\n",
    "\n",
    "model = tf.keras.Sequential([\n",
    "    normalizer,\n",
    "    tf.keras.layers.Dense(10, activation='relu'),\n",
    "    tf.keras.layers.Dropout(0.25),\n",
    "    tf.keras.layers.Dense(10, activation='relu'),\n",
    "    tf.keras.layers.Dropout(0.25),\n",
    "    tf.keras.layers.Dense(max(test_target)+1)\n",
    "  ])\n",
    "\n",
    "model.compile(optimizer='adam',\n",
    "    loss=tf.keras.losses.SparseCategoricalCrossentropy(from_logits=True),\n",
    "    metrics=['accuracy'])"
   ]
  },
  {
   "cell_type": "code",
   "execution_count": 99,
   "metadata": {},
   "outputs": [
    {
     "name": "stdout",
     "output_type": "stream",
     "text": [
      "Epoch 1/10\n",
      "850/850 [==============================] - 1s 809us/step - loss: 2.1746 - accuracy: 0.3670\n",
      "Epoch 2/10\n",
      "850/850 [==============================] - 1s 843us/step - loss: 1.9520 - accuracy: 0.3834\n",
      "Epoch 3/10\n",
      "850/850 [==============================] - 1s 845us/step - loss: 1.9136 - accuracy: 0.3848\n",
      "Epoch 4/10\n",
      "850/850 [==============================] - 1s 795us/step - loss: 1.8920 - accuracy: 0.3865\n",
      "Epoch 5/10\n",
      "850/850 [==============================] - 1s 887us/step - loss: 1.8687 - accuracy: 0.3874\n",
      "Epoch 6/10\n",
      "850/850 [==============================] - 1s 795us/step - loss: 1.8413 - accuracy: 0.3879\n",
      "Epoch 7/10\n",
      "850/850 [==============================] - 1s 796us/step - loss: 1.8221 - accuracy: 0.3873\n",
      "Epoch 8/10\n",
      "850/850 [==============================] - 1s 809us/step - loss: 1.8003 - accuracy: 0.3894\n",
      "Epoch 9/10\n",
      "850/850 [==============================] - 1s 802us/step - loss: 1.7864 - accuracy: 0.3897\n",
      "Epoch 10/10\n",
      "850/850 [==============================] - 1s 832us/step - loss: 1.7732 - accuracy: 0.3932\n"
     ]
    },
    {
     "data": {
      "text/plain": [
       "<keras.callbacks.History at 0x1a34126b490>"
      ]
     },
     "execution_count": 99,
     "metadata": {},
     "output_type": "execute_result"
    }
   ],
   "source": [
    "model.fit(train_in, train_target, epochs=10, batch_size=10)"
   ]
  },
  {
   "cell_type": "code",
   "execution_count": 100,
   "metadata": {},
   "outputs": [
    {
     "name": "stdout",
     "output_type": "stream",
     "text": [
      "67/67 [==============================] - 0s 773us/step - loss: 1.7146 - accuracy: 0.3948\n"
     ]
    },
    {
     "data": {
      "text/plain": [
       "[1.7145901918411255, 0.39482352137565613]"
      ]
     },
     "execution_count": 100,
     "metadata": {},
     "output_type": "execute_result"
    }
   ],
   "source": [
    "model.evaluate(test_in, test_target)"
   ]
  },
  {
   "cell_type": "markdown",
   "metadata": {},
   "source": [
    "## Model rounded to next 1000 --> Binary"
   ]
  },
  {
   "cell_type": "code",
   "execution_count": 74,
   "metadata": {},
   "outputs": [],
   "source": [
    "data[\"close\"] = data[\"close\"].apply(lambda x: int(round(x/1000)*1000))\n",
    "data[\"close\"] = data[\"close\"].factorize()[0]\n",
    "\n",
    "train, test = model_selection.train_test_split(data, test_size= 0.2)\n",
    "\n",
    "train_in = train[[\"nlikes\", \"nreplies\", \"nretweets\"]]\n",
    "train_target = train[\"close\"]\n",
    "\n",
    "test_in = test[[\"nlikes\", \"nreplies\", \"nretweets\"]]\n",
    "test_target = test[\"close\"]"
   ]
  },
  {
   "cell_type": "code",
   "execution_count": 80,
   "metadata": {},
   "outputs": [],
   "source": [
    "normalizer = tf.keras.layers.Normalization(axis=-1) #to make values between 0 and 1\n",
    "normalizer.adapt(train_in)\n",
    "\n",
    "model_bin = tf.keras.Sequential([\n",
    "    normalizer,\n",
    "    tf.keras.layers.Dense(10, activation='relu'),\n",
    "    tf.keras.layers.Dropout(0.25),\n",
    "    tf.keras.layers.Dense(10, activation='relu'),\n",
    "    tf.keras.layers.Dropout(0.25),\n",
    "    tf.keras.layers.Dense(1)\n",
    "  ])\n",
    "\n",
    "model_bin.compile(optimizer='adam',\n",
    "  loss=tf.keras.losses.BinaryCrossentropy(from_logits=True),\n",
    "  metrics=['accuracy'])"
   ]
  },
  {
   "cell_type": "code",
   "execution_count": 81,
   "metadata": {},
   "outputs": [
    {
     "name": "stdout",
     "output_type": "stream",
     "text": [
      "Epoch 1/10\n",
      "170/170 [==============================] - 1s 898us/step - loss: 0.6124 - accuracy: 0.4698\n",
      "Epoch 2/10\n",
      "170/170 [==============================] - 0s 940us/step - loss: 0.5484 - accuracy: 0.7419\n",
      "Epoch 3/10\n",
      "170/170 [==============================] - 0s 939us/step - loss: 0.5307 - accuracy: 0.7533\n",
      "Epoch 4/10\n",
      "170/170 [==============================] - 0s 1ms/step - loss: 0.5142 - accuracy: 0.7670\n",
      "Epoch 5/10\n",
      "170/170 [==============================] - 0s 931us/step - loss: 0.4907 - accuracy: 0.7852\n",
      "Epoch 6/10\n",
      "170/170 [==============================] - 0s 886us/step - loss: 0.4725 - accuracy: 0.7939\n",
      "Epoch 7/10\n",
      "170/170 [==============================] - 0s 869us/step - loss: 0.4527 - accuracy: 0.8065\n",
      "Epoch 8/10\n",
      "170/170 [==============================] - 0s 891us/step - loss: 0.4399 - accuracy: 0.8125\n",
      "Epoch 9/10\n",
      "170/170 [==============================] - 0s 856us/step - loss: 0.4217 - accuracy: 0.8223\n",
      "Epoch 10/10\n",
      "170/170 [==============================] - 0s 889us/step - loss: 0.4156 - accuracy: 0.8239\n"
     ]
    },
    {
     "data": {
      "text/plain": [
       "<keras.callbacks.History at 0x1a3407a4ca0>"
      ]
     },
     "execution_count": 81,
     "metadata": {},
     "output_type": "execute_result"
    }
   ],
   "source": [
    "model_bin.fit(train_in, train_target, epochs=10, batch_size=50)"
   ]
  },
  {
   "cell_type": "code",
   "execution_count": 82,
   "metadata": {},
   "outputs": [
    {
     "name": "stdout",
     "output_type": "stream",
     "text": [
      "67/67 [==============================] - 0s 696us/step - loss: 0.3829 - accuracy: 0.8273\n"
     ]
    },
    {
     "data": {
      "text/plain": [
       "[0.3828790485858917, 0.827294111251831]"
      ]
     },
     "execution_count": 82,
     "metadata": {},
     "output_type": "execute_result"
    }
   ],
   "source": [
    "model_bin.evaluate(test_in, test_target)"
   ]
  },
  {
   "cell_type": "markdown",
   "metadata": {},
   "source": [
    "## Binary up or down per day"
   ]
  },
  {
   "cell_type": "code",
   "execution_count": 128,
   "metadata": {},
   "outputs": [
    {
     "name": "stdout",
     "output_type": "stream",
     "text": [
      "              nlikes  nreplies  nretweets    close  close_diff  direction\n",
      "date                                                                     \n",
      "2011-12-01     267.0      63.0       24.0    6.520         NaN          0\n",
      "2011-12-21    1330.0      87.0      597.0    5.514      -1.006          0\n",
      "2011-12-22    1349.0     132.0      206.0    5.554       0.040          1\n",
      "2011-12-27      39.0      13.0       34.0    5.714       0.160          1\n",
      "2011-12-28      12.0       7.0        1.0    5.702      -0.012          0\n",
      "...              ...       ...        ...      ...         ...        ...\n",
      "2022-02-25  118902.0    9995.0     6482.0  809.870      45.830          1\n",
      "2022-03-01  259382.0    7631.0    14625.0  864.370      54.500          1\n",
      "2022-03-02  496142.0   19800.0    51087.0  879.890      15.520          1\n",
      "2022-03-03  688520.0   21765.0    73639.0  839.290     -40.600          0\n",
      "2022-03-04   95202.0    4688.0     4779.0  838.290      -1.000          0\n",
      "\n",
      "[1636 rows x 6 columns]\n"
     ]
    }
   ],
   "source": [
    "data = data.groupby([\"date\"])\n",
    "\n",
    "data1 = data.sum() # for tweet statistics\n",
    "data2 = data.mean() # for stock price\n",
    "data1[\"close\"] = data2[\"close\"]\n",
    "data = data1\n",
    "\n",
    "# function to assign 1 if price went up, 0 otherwise\n",
    "def direction (x):\n",
    "    if x > 0:\n",
    "        return 1\n",
    "    else:\n",
    "        return 0\n",
    "\n",
    "# assign 1 or 0 to every date\n",
    "data[\"close_diff\"] = data[\"close\"].diff()\n",
    "data[\"direction\"] = data[\"close_diff\"].apply(direction)\n",
    "print(data)\n",
    "\n",
    "train, test = model_selection.train_test_split(data, test_size= 0.2)\n",
    "\n",
    "train_in = train[[\"nlikes\", \"nreplies\", \"nretweets\"]]\n",
    "train_target = train[\"direction\"]\n",
    "\n",
    "test_in = test[[\"nlikes\", \"nreplies\", \"nretweets\"]]\n",
    "test_target = test[\"direction\"]"
   ]
  },
  {
   "cell_type": "code",
   "execution_count": 129,
   "metadata": {},
   "outputs": [],
   "source": [
    "normalizer = tf.keras.layers.Normalization(axis=-1) #to make values between 0 and 1\n",
    "normalizer.adapt(train_in)\n",
    "\n",
    "model_bin = tf.keras.Sequential([\n",
    "    normalizer,\n",
    "    tf.keras.layers.Dense(10, activation='relu'),\n",
    "    tf.keras.layers.Dropout(0.25),\n",
    "    tf.keras.layers.Dense(10, activation='relu'),\n",
    "    tf.keras.layers.Dropout(0.25),\n",
    "    tf.keras.layers.Dense(1)\n",
    "  ])\n",
    "\n",
    "model_bin.compile(optimizer='adam',\n",
    "  loss=tf.keras.losses.BinaryCrossentropy(from_logits=True),\n",
    "  metrics=['accuracy'])"
   ]
  },
  {
   "cell_type": "code",
   "execution_count": 130,
   "metadata": {},
   "outputs": [
    {
     "name": "stdout",
     "output_type": "stream",
     "text": [
      "Epoch 1/10\n",
      "262/262 [==============================] - 1s 855us/step - loss: 0.6981 - accuracy: 0.4572\n",
      "Epoch 2/10\n",
      "262/262 [==============================] - 0s 839us/step - loss: 0.6934 - accuracy: 0.4648\n",
      "Epoch 3/10\n",
      "262/262 [==============================] - 0s 837us/step - loss: 0.6935 - accuracy: 0.4625\n",
      "Epoch 4/10\n",
      "262/262 [==============================] - 0s 868us/step - loss: 0.6945 - accuracy: 0.4595\n",
      "Epoch 5/10\n",
      "262/262 [==============================] - 0s 946us/step - loss: 0.6941 - accuracy: 0.4511\n",
      "Epoch 6/10\n",
      "262/262 [==============================] - 0s 958us/step - loss: 0.6916 - accuracy: 0.4602\n",
      "Epoch 7/10\n",
      "262/262 [==============================] - 0s 940us/step - loss: 0.6952 - accuracy: 0.4557\n",
      "Epoch 8/10\n",
      "262/262 [==============================] - 0s 852us/step - loss: 0.6888 - accuracy: 0.4595\n",
      "Epoch 9/10\n",
      "262/262 [==============================] - 0s 849us/step - loss: 0.6924 - accuracy: 0.4580\n",
      "Epoch 10/10\n",
      "262/262 [==============================] - 0s 840us/step - loss: 0.6899 - accuracy: 0.4587\n"
     ]
    },
    {
     "data": {
      "text/plain": [
       "<keras.callbacks.History at 0x1a348d7ba00>"
      ]
     },
     "execution_count": 130,
     "metadata": {},
     "output_type": "execute_result"
    }
   ],
   "source": [
    "model_bin.fit(train_in, train_target, epochs=10, batch_size=5)"
   ]
  },
  {
   "cell_type": "code",
   "execution_count": 131,
   "metadata": {},
   "outputs": [
    {
     "name": "stdout",
     "output_type": "stream",
     "text": [
      "11/11 [==============================] - 0s 886us/step - loss: 0.6944 - accuracy: 0.4878\n"
     ]
    },
    {
     "data": {
      "text/plain": [
       "[0.694447934627533, 0.4878048896789551]"
      ]
     },
     "execution_count": 131,
     "metadata": {},
     "output_type": "execute_result"
    }
   ],
   "source": [
    "model_bin.evaluate(test_in, test_target)"
   ]
  }
 ],
 "metadata": {
  "interpreter": {
   "hash": "6f3eb201a0ac6110943912f566930be6c3d5ab858ab2721a656c3fdb1d45e052"
  },
  "kernelspec": {
   "display_name": "Python 3.9.2 64-bit",
   "language": "python",
   "name": "python3"
  },
  "language_info": {
   "codemirror_mode": {
    "name": "ipython",
    "version": 3
   },
   "file_extension": ".py",
   "mimetype": "text/x-python",
   "name": "python",
   "nbconvert_exporter": "python",
   "pygments_lexer": "ipython3",
   "version": "3.9.2"
  },
  "orig_nbformat": 4
 },
 "nbformat": 4,
 "nbformat_minor": 2
}
